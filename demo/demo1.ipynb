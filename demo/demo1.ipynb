{
 "cells": [
  {
   "cell_type": "code",
   "execution_count": 1,
   "metadata": {
    "collapsed": true
   },
   "outputs": [],
   "source": [
    "import pandas as pd\n",
    "import matplotlib.pyplot as plt\n",
    "plt.rcParams[\"font.sans-serif\"] = \"SimHei\" #解决中文乱码问题"
   ]
  },
  {
   "cell_type": "code",
   "execution_count": 2,
   "outputs": [],
   "source": [
    "#获取数据\n",
    "df_train = pd.read_csv('../data_format1/train_format1.csv')\n",
    "df_test = pd.read_csv('../data_format1/test_format1.csv')\n",
    "user_info = pd.read_csv('../data_format1/user_info_format1.csv')\n",
    "user_log = pd.read_csv('../data_format1/user_log_format1.csv').rename(columns={'seller_id':'merchant_id'})"
   ],
   "metadata": {
    "collapsed": false
   }
  },
  {
   "cell_type": "code",
   "execution_count": 3,
   "outputs": [],
   "source": [
    "#数据处理\n",
    "user_info['age_range'].fillna(-1,inplace=True)\n",
    "user_info['gender'].fillna(2,inplace=True)  #2和null代表性别不确定\n",
    "user_log['brand_id'].fillna(-1,inplace=True)"
   ],
   "metadata": {
    "collapsed": false
   }
  },
  {
   "cell_type": "code",
   "execution_count": 4,
   "outputs": [],
   "source": [
    "temp=user_log.groupby(by=['user_id','merchant_id'])\n",
    "feature=temp.count().reset_index()[['user_id','merchant_id','item_id']]\n",
    "#一个人在一家店留下了多少记录\n",
    "feature.rename(columns={'item_id':'action_times'},inplace=True)\n",
    "#统计点击次数、购买次数、收藏次数、添加购物车次数\n",
    "action_temp=user_log.groupby(by=['user_id','merchant_id','action_type']).count().reset_index()\n",
    "#统计action_type中的四种操作各出现了多少次。\n",
    "feature=pd.merge(feature,action_temp[action_temp['action_type']==0][['user_id','merchant_id','item_id']],on=['user_id','merchant_id'],how='left')\n",
    "feature=pd.merge(feature,action_temp[action_temp['action_type']==1][['user_id','merchant_id','cat_id']],on=['user_id','merchant_id'],how='left')\n",
    "feature=pd.merge(feature,action_temp[action_temp['action_type']==2][['user_id','merchant_id','brand_id']],on=['user_id','merchant_id'],how='left')\n",
    "feature=pd.merge(feature,action_temp[action_temp['action_type']==3][['user_id','merchant_id','time_stamp']],on=['user_id','merchant_id'],how='left')\n",
    "feature.fillna(0, inplace=True)\n",
    "feature.rename(columns={'item_id':'click','cat_id':'cart','brand_id':'buy','time_stamp':'favorite'},inplace=True)\n",
    "feature=feature.astype({'click':'int64','cart':'int64','buy':'int64','favorite':'int64'})\n",
    "feature = feature.astype({'click': 'int64', 'cart': 'int64', 'buy': 'int64', 'favorite': 'int64'})\n",
    "#筛选用户对某个商家的time_stamp出现的不重复次数\n",
    "time_temp = temp['time_stamp'].nunique().reset_index()\n",
    "feature = pd.merge(feature, time_temp, on=['user_id', 'merchant_id'], how='left')\n",
    "#在双十一以外的日子有购买记录，就将not1111变量设置为1\n",
    "time_temp_2=user_log[(user_log['time_stamp']!=1111) & (user_log['action_type']==2)][['user_id','merchant_id']].drop_duplicates()\n",
    "time_temp_2['not1111']=1\n",
    "feature=pd.merge(feature,time_temp_2,on=['user_id','merchant_id'],how='left')\n",
    "feature.fillna(0, inplace=True)\n",
    "feature=feature.astype({'not1111':'int64'})\n",
    "#统计用户在商家这边操作的商品数目\n",
    "item_temp=temp['item_id'].nunique().reset_index()\n",
    "\n",
    "feature=pd.merge(feature,item_temp,on=['user_id','merchant_id'],how='left')\n",
    "feature.fillna(0, inplace=True)\n",
    "feature.rename(columns={'item_id':'item_num'},inplace=True)\n",
    "feature=feature.astype({'item_num':'int64'})\n",
    "#用户在某个商家操作了几种商品？\n",
    "cat_temp=temp['cat_id'].nunique().reset_index()\n",
    "\n",
    "feature=pd.merge(feature,cat_temp,on=['user_id','merchant_id'],how='left')\n",
    "feature.fillna(0, inplace=True)\n",
    "feature.rename(columns={'cat_id':'cat_num'},inplace=True)\n",
    "feature=feature.astype({'cat_num':'int64'})\n",
    "\n",
    "#用户在某个商家操作了几个品牌的商品？\n",
    "brand_temp=temp['brand_id'].nunique().reset_index()\n",
    "\n",
    "feature=pd.merge(feature,brand_temp,on=['user_id','merchant_id'],how='left')\n",
    "feature.fillna(0, inplace=True)\n",
    "feature.rename(columns={'brand_id':'brand_num'},inplace=True)\n",
    "feature=feature.astype({'brand_num':'int64'})\n",
    "#把user_info的信息加进去\n",
    "feature=pd.merge(feature,user_info,on=['user_id'],how='left')\n",
    "feature=feature.astype({'age_range':'int64','gender':'int64'})"
   ],
   "metadata": {
    "collapsed": false
   }
  },
  {
   "cell_type": "code",
   "execution_count": 5,
   "outputs": [],
   "source": [
    "feature.to_csv('feature.csv')"
   ],
   "metadata": {
    "collapsed": false
   }
  },
  {
   "cell_type": "code",
   "execution_count": 6,
   "outputs": [
    {
     "data": {
      "text/plain": "((182605, 12), (182605,), (78259, 12))"
     },
     "execution_count": 6,
     "metadata": {},
     "output_type": "execute_result"
    }
   ],
   "source": [
    "#整理数据集\n",
    "train_test = pd.merge(df_train,feature,on=['user_id','merchant_id'],how='left')\n",
    "pred = pd.merge(df_test,feature,on=['user_id','merchant_id'],how='left')\n",
    "#以7:3的比例分割训练集和测试集，并分出特征和标签。\n",
    "train = train_test.sample(frac=0.7)\n",
    "X_train = train.drop(['user_id','merchant_id','label'], axis=1)#训练集特征\n",
    "Y_train = train['label']#训练集类标签\n",
    "test = pd.concat([train_test, train, train]).drop_duplicates(keep=False)#测试集是在train_test但不在train里的数据\n",
    "X_test = test.drop(['user_id','merchant_id','label'], axis=1)#测试集特征\n",
    "Y_test = test['label']\n",
    "X_pred = pred.drop(['user_id','merchant_id','prob'], axis=1)\n",
    "\n",
    "X_train.shape, Y_train.shape, X_test.shape"
   ],
   "metadata": {
    "collapsed": false
   }
  },
  {
   "cell_type": "code",
   "execution_count": 7,
   "outputs": [
    {
     "data": {
      "text/plain": "96.64"
     },
     "execution_count": 7,
     "metadata": {},
     "output_type": "execute_result"
    }
   ],
   "source": [
    "#决策树\n",
    "from sklearn.tree import DecisionTreeClassifier\n",
    "\n",
    "decision_tree = DecisionTreeClassifier()\n",
    "decision_tree.fit(X_train, Y_train)\n",
    "Y_pred = decision_tree.predict(X_test)\n",
    "acc_decision_tree = round(decision_tree.score(X_train, Y_train) * 100, 2)\n",
    "acc_decision_tree"
   ],
   "metadata": {
    "collapsed": false
   }
  },
  {
   "cell_type": "code",
   "execution_count": 25,
   "outputs": [
    {
     "name": "stdout",
     "output_type": "stream",
     "text": [
      "93.84\n",
      "准确率为:  0.9384299443518694\n"
     ]
    }
   ],
   "source": [
    "# 逻辑回归模型\n",
    "from sklearn.linear_model import LogisticRegression\n",
    "from sklearn import model_selection\n",
    "\n",
    "logreg = LogisticRegression(random_state=1,solver='newton-cg')#,class_weight='balanced')\n",
    "logreg.fit(X_train, Y_train)#用训练集特征和对应的类标签拟合逻辑回归模型\n",
    "Y_pred = logreg.predict(X_test)  # logreg.predict_proba(X_test)[:,1]\n",
    "acc_log = round(logreg.score(X_train, Y_train) * 100, 2)\n",
    "print(acc_log)\n",
    "\n",
    "#使用sklearn库里面的交叉验证函数获取预测准确率分数\n",
    "scores = model_selection.cross_val_score(logreg,X_train,Y_train,cv=3)\n",
    "#使用交叉验证分数的平均值作为最终的准确率\n",
    "print(\"准确率为: \",scores.mean())"
   ],
   "metadata": {
    "collapsed": false
   }
  },
  {
   "cell_type": "code",
   "execution_count": 9,
   "outputs": [
    {
     "data": {
      "text/plain": "96.63"
     },
     "execution_count": 9,
     "metadata": {},
     "output_type": "execute_result"
    }
   ],
   "source": [
    "#随机森林\n",
    "from sklearn.ensemble import RandomForestClassifier\n",
    "\n",
    "random_forest = RandomForestClassifier(n_estimators=100)\n",
    "random_forest.fit(X_train, Y_train)\n",
    "Y_pred = random_forest.predict(X_test)\n",
    "random_forest.score(X_train, Y_train)\n",
    "acc_random_forest = round(random_forest.score(X_train, Y_train) * 100, 2)\n",
    "acc_random_forest"
   ],
   "metadata": {
    "collapsed": false
   }
  },
  {
   "cell_type": "code",
   "execution_count": 19,
   "outputs": [
    {
     "data": {
      "text/plain": "array([[0.95335482, 0.04664518],\n       [0.89639977, 0.10360023],\n       [0.94513903, 0.05486097],\n       ...,\n       [0.89276968, 0.10723032],\n       [0.95317571, 0.04682429],\n       [0.95100226, 0.04899774]])"
     },
     "execution_count": 19,
     "metadata": {},
     "output_type": "execute_result"
    }
   ],
   "source": [
    "#预测logreg、random_forest、decision_tree\n",
    "Y_tpred=logreg.predict_proba(X_pred)\n",
    "Y_tpred"
   ],
   "metadata": {
    "collapsed": false
   }
  },
  {
   "cell_type": "code",
   "execution_count": 20,
   "outputs": [],
   "source": [
    "df_test['prob']=Y_tpred[:,1]\n",
    "df_test.to_csv('.\\submission.csv',index = False)"
   ],
   "metadata": {
    "collapsed": false
   }
  }
 ],
 "metadata": {
  "kernelspec": {
   "display_name": "Python 3",
   "language": "python",
   "name": "python3"
  },
  "language_info": {
   "codemirror_mode": {
    "name": "ipython",
    "version": 2
   },
   "file_extension": ".py",
   "mimetype": "text/x-python",
   "name": "python",
   "nbconvert_exporter": "python",
   "pygments_lexer": "ipython2",
   "version": "2.7.6"
  }
 },
 "nbformat": 4,
 "nbformat_minor": 0
}
